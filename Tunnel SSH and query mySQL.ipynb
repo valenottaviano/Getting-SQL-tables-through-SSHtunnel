{
 "cells": [
  {
   "cell_type": "code",
   "execution_count": 1,
   "id": "e8f1c3fd",
   "metadata": {},
   "outputs": [],
   "source": [
    " # connect to ssh\n",
    "import pandas as pd\n",
    "import pymysql\n",
    "import logging\n",
    "import sshtunnel\n",
    "from sshtunnel import SSHTunnelForwarder"
   ]
  },
  {
   "cell_type": "code",
   "execution_count": 2,
   "id": "76a96809",
   "metadata": {},
   "outputs": [],
   "source": [
    "# SSH connection vars\n",
    "ssh_host = 'IP_ADDRESS'\n",
    "ssh_username = 'USER'\n",
    "ssh_password = 'PASS'"
   ]
  },
  {
   "cell_type": "code",
   "execution_count": 3,
   "id": "a6824aa1",
   "metadata": {},
   "outputs": [],
   "source": [
    "def open_ssh_tunnel(verbose=False):\n",
    "    if verbose:\n",
    "        sshtunnel.DEFAULT_LOGLEVEL = logging.DEBUG\n",
    "    \n",
    "    global tunnel\n",
    "    tunnel = sshtunnel.SSHTunnelForwarder(\n",
    "        (ssh_host, 22),\n",
    "        ssh_username = ssh_username,\n",
    "        ssh_password = ssh_password,\n",
    "        remote_bind_address = ('127.0.0.1', 3306)\n",
    "    )\n",
    "    \n",
    "    tunnel.start()\n"
   ]
  },
  {
   "cell_type": "code",
   "execution_count": 4,
   "id": "f1d63e9f",
   "metadata": {},
   "outputs": [],
   "source": [
    "def mysql_connect():\n",
    "    global connection\n",
    "    \n",
    "    connection = pymysql.connect(\n",
    "        host ='127.0.0.1',\n",
    "        user = db_username,\n",
    "        passwd = db_password,\n",
    "        db = db_name,\n",
    "        port = tunnel.local_bind_port\n",
    "    )"
   ]
  },
  {
   "cell_type": "code",
   "execution_count": 5,
   "id": "df951584",
   "metadata": {},
   "outputs": [],
   "source": [
    "def run_query(sql):\n",
    "    return pd.read_sql_query(sql, connection)"
   ]
  },
  {
   "cell_type": "code",
   "execution_count": 6,
   "id": "e210f686",
   "metadata": {},
   "outputs": [],
   "source": [
    "def mysql_disconnect():\n",
    "    connection.close()"
   ]
  },
  {
   "cell_type": "code",
   "execution_count": 7,
   "id": "17e77d5f",
   "metadata": {},
   "outputs": [],
   "source": [
    "def close_ssh_tunnel():\n",
    "    tunnel.close"
   ]
  },
  {
   "cell_type": "code",
   "execution_count": 9,
   "id": "b212dda3",
   "metadata": {},
   "outputs": [],
   "source": [
    "open_ssh_tunnel()\n",
    "mysql_connect()\n",
    "tables = run_query(\"SHOW TABLES;\")\n",
    "tables_dfs = []\n",
    "\n",
    "for name in tables.values:\n",
    "    table = name[0]\n",
    "    query = f\"SELECT * FROM {table};\"\n",
    "    tables_dfs.append({\n",
    "        'Name': name,\n",
    "        'Table': run_query(query)\n",
    "    })\n",
    "\n",
    "mysql_disconnect()\n",
    "close_ssh_tunnel()"
   ]
  }
 ],
 "metadata": {
  "kernelspec": {
   "display_name": "Python 3",
   "language": "python",
   "name": "python3"
  },
  "language_info": {
   "codemirror_mode": {
    "name": "ipython",
    "version": 3
   },
   "file_extension": ".py",
   "mimetype": "text/x-python",
   "name": "python",
   "nbconvert_exporter": "python",
   "pygments_lexer": "ipython3",
   "version": "3.8.8"
  }
 },
 "nbformat": 4,
 "nbformat_minor": 5
}
